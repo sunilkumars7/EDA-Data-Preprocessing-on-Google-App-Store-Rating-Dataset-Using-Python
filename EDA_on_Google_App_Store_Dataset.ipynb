{
 "cells": [
  {
   "cell_type": "markdown",
   "id": "42df3a77",
   "metadata": {},
   "source": [
    "## EDA & Data Preprocessing on Google App Store Rating Dataset.\n",
    "\n",
    "### Domain: Mobile device apps\n",
    "### Context:\n",
    "The Play Store apps data has enormous potential to drive app-making businesses to success. However, many\n",
    "apps are being developed every single day and only a few of them become profitable. It is important for\n",
    "developers to be able to predict the success of their app and incorporate features which makes an app\n",
    "successful. Before any such predictive-study can be done, it is necessary to do EDA and data-preprocessing on\n",
    "the apps data available for google app store applications. From the collected apps data and user ratings from\n",
    "the app stores, let's try to extract insightful information.\n",
    "### Objective:\n",
    "The Goal is to explore the data and pre-process it for future use in any predictive analytics study.\n",
    "### Data set Information:\n",
    "Web scraped data of 10k Play Store apps for analyzing the Android market. Each app (row) has values for\n",
    "category, rating, size, and more.\n",
    "### Attribute Information:\n",
    "- **App :** Application name.\n",
    "- **Category :** Category the app belongs to.\n",
    "- **Rating :** Overall user rating of the app.\n",
    "- **Size :** Size of the app\n",
    "- **Installs :** Number of user reviews for the app\n",
    "- **Type :** Paid or Free\n",
    "- **Price :** Price of the app\n",
    "- **Content :** Rating Age group the app is targeted at - children/Mature 21+ /Adult\n",
    "Proprietary content.\n",
    "- **Genres :** An app can belong to multiple genres (apart from its main category). For eg. a\n",
    "musical family game will belong to Music, Game, Family genres.\n",
    "- **Last Updated :** Date when the app was last updated on play store.\n",
    "- **Current Ver :** Current version of the app available on play store.\n",
    "- **Android Ver :** Min required Android Version.\n"
   ]
  },
  {
   "cell_type": "markdown",
   "id": "5ba4894a",
   "metadata": {
    "ExecuteTime": {
     "end_time": "2023-12-14T14:51:58.443706Z",
     "start_time": "2023-12-14T14:51:58.325642Z"
    }
   },
   "source": [
    "<font size=3> Q1) Import required libraries and read the dataset."
   ]
  },
  {
   "cell_type": "code",
   "execution_count": 1,
   "id": "9887da1f",
   "metadata": {
    "ExecuteTime": {
     "end_time": "2023-12-16T16:01:03.032026Z",
     "start_time": "2023-12-16T16:00:50.865542Z"
    }
   },
   "outputs": [],
   "source": [
    "import numpy as np\n",
    "import pandas as pd\n",
    "import matplotlib.pyplot as plt\n",
    "import seaborn as sns"
   ]
  },
  {
   "cell_type": "code",
   "execution_count": 2,
   "id": "508bd8a9",
   "metadata": {
    "ExecuteTime": {
     "end_time": "2023-12-16T16:01:03.332321Z",
     "start_time": "2023-12-16T16:01:03.033611Z"
    }
   },
   "outputs": [],
   "source": [
    "# Reading the dataset\n",
    "\n",
    "df = pd.read_csv('Apps_data.csv')"
   ]
  },
  {
   "cell_type": "markdown",
   "id": "2c067bec",
   "metadata": {},
   "source": [
    "<font size=3> Q2) Check the first few samples, shape, info of the data and try to familiarize yourself with different features."
   ]
  },
  {
   "cell_type": "code",
   "execution_count": 3,
   "id": "81a72f5b",
   "metadata": {
    "ExecuteTime": {
     "end_time": "2023-12-16T16:01:03.452978Z",
     "start_time": "2023-12-16T16:01:03.338539Z"
    },
    "scrolled": false
   },
   "outputs": [
    {
     "data": {
      "text/html": [
       "<div>\n",
       "<style scoped>\n",
       "    .dataframe tbody tr th:only-of-type {\n",
       "        vertical-align: middle;\n",
       "    }\n",
       "\n",
       "    .dataframe tbody tr th {\n",
       "        vertical-align: top;\n",
       "    }\n",
       "\n",
       "    .dataframe thead th {\n",
       "        text-align: right;\n",
       "    }\n",
       "</style>\n",
       "<table border=\"1\" class=\"dataframe\">\n",
       "  <thead>\n",
       "    <tr style=\"text-align: right;\">\n",
       "      <th></th>\n",
       "      <th>0</th>\n",
       "      <th>1</th>\n",
       "      <th>2</th>\n",
       "      <th>3</th>\n",
       "      <th>4</th>\n",
       "    </tr>\n",
       "  </thead>\n",
       "  <tbody>\n",
       "    <tr>\n",
       "      <th>App</th>\n",
       "      <td>Photo Editor &amp; Candy Camera &amp; Grid &amp; ScrapBook</td>\n",
       "      <td>Coloring book moana</td>\n",
       "      <td>U Launcher Lite – FREE Live Cool Themes, Hide ...</td>\n",
       "      <td>Sketch - Draw &amp; Paint</td>\n",
       "      <td>Pixel Draw - Number Art Coloring Book</td>\n",
       "    </tr>\n",
       "    <tr>\n",
       "      <th>Category</th>\n",
       "      <td>ART_AND_DESIGN</td>\n",
       "      <td>ART_AND_DESIGN</td>\n",
       "      <td>ART_AND_DESIGN</td>\n",
       "      <td>ART_AND_DESIGN</td>\n",
       "      <td>ART_AND_DESIGN</td>\n",
       "    </tr>\n",
       "    <tr>\n",
       "      <th>Rating</th>\n",
       "      <td>4.1</td>\n",
       "      <td>3.9</td>\n",
       "      <td>4.7</td>\n",
       "      <td>4.5</td>\n",
       "      <td>4.3</td>\n",
       "    </tr>\n",
       "    <tr>\n",
       "      <th>Reviews</th>\n",
       "      <td>159</td>\n",
       "      <td>967</td>\n",
       "      <td>87510</td>\n",
       "      <td>215644</td>\n",
       "      <td>967</td>\n",
       "    </tr>\n",
       "    <tr>\n",
       "      <th>Size</th>\n",
       "      <td>19M</td>\n",
       "      <td>14M</td>\n",
       "      <td>8.7M</td>\n",
       "      <td>25M</td>\n",
       "      <td>2.8M</td>\n",
       "    </tr>\n",
       "    <tr>\n",
       "      <th>Installs</th>\n",
       "      <td>10,000+</td>\n",
       "      <td>500,000+</td>\n",
       "      <td>5,000,000+</td>\n",
       "      <td>50,000,000+</td>\n",
       "      <td>100,000+</td>\n",
       "    </tr>\n",
       "    <tr>\n",
       "      <th>Type</th>\n",
       "      <td>Free</td>\n",
       "      <td>Free</td>\n",
       "      <td>Free</td>\n",
       "      <td>Free</td>\n",
       "      <td>Free</td>\n",
       "    </tr>\n",
       "    <tr>\n",
       "      <th>Price</th>\n",
       "      <td>0</td>\n",
       "      <td>0</td>\n",
       "      <td>0</td>\n",
       "      <td>0</td>\n",
       "      <td>0</td>\n",
       "    </tr>\n",
       "    <tr>\n",
       "      <th>Content Rating</th>\n",
       "      <td>Everyone</td>\n",
       "      <td>Everyone</td>\n",
       "      <td>Everyone</td>\n",
       "      <td>Teen</td>\n",
       "      <td>Everyone</td>\n",
       "    </tr>\n",
       "    <tr>\n",
       "      <th>Genres</th>\n",
       "      <td>Art &amp; Design</td>\n",
       "      <td>Art &amp; Design;Pretend Play</td>\n",
       "      <td>Art &amp; Design</td>\n",
       "      <td>Art &amp; Design</td>\n",
       "      <td>Art &amp; Design;Creativity</td>\n",
       "    </tr>\n",
       "    <tr>\n",
       "      <th>Last Updated</th>\n",
       "      <td>January 7, 2018</td>\n",
       "      <td>January 15, 2018</td>\n",
       "      <td>August 1, 2018</td>\n",
       "      <td>June 8, 2018</td>\n",
       "      <td>June 20, 2018</td>\n",
       "    </tr>\n",
       "    <tr>\n",
       "      <th>Current Ver</th>\n",
       "      <td>1.0.0</td>\n",
       "      <td>2.0.0</td>\n",
       "      <td>1.2.4</td>\n",
       "      <td>Varies with device</td>\n",
       "      <td>1.1</td>\n",
       "    </tr>\n",
       "    <tr>\n",
       "      <th>Android Ver</th>\n",
       "      <td>4.0.3 and up</td>\n",
       "      <td>4.0.3 and up</td>\n",
       "      <td>4.0.3 and up</td>\n",
       "      <td>4.2 and up</td>\n",
       "      <td>4.4 and up</td>\n",
       "    </tr>\n",
       "  </tbody>\n",
       "</table>\n",
       "</div>"
      ],
      "text/plain": [
       "                                                             0  \\\n",
       "App             Photo Editor & Candy Camera & Grid & ScrapBook   \n",
       "Category                                        ART_AND_DESIGN   \n",
       "Rating                                                     4.1   \n",
       "Reviews                                                    159   \n",
       "Size                                                       19M   \n",
       "Installs                                               10,000+   \n",
       "Type                                                      Free   \n",
       "Price                                                        0   \n",
       "Content Rating                                        Everyone   \n",
       "Genres                                            Art & Design   \n",
       "Last Updated                                   January 7, 2018   \n",
       "Current Ver                                              1.0.0   \n",
       "Android Ver                                       4.0.3 and up   \n",
       "\n",
       "                                        1  \\\n",
       "App                   Coloring book moana   \n",
       "Category                   ART_AND_DESIGN   \n",
       "Rating                                3.9   \n",
       "Reviews                               967   \n",
       "Size                                  14M   \n",
       "Installs                         500,000+   \n",
       "Type                                 Free   \n",
       "Price                                   0   \n",
       "Content Rating                   Everyone   \n",
       "Genres          Art & Design;Pretend Play   \n",
       "Last Updated             January 15, 2018   \n",
       "Current Ver                         2.0.0   \n",
       "Android Ver                  4.0.3 and up   \n",
       "\n",
       "                                                                2  \\\n",
       "App             U Launcher Lite – FREE Live Cool Themes, Hide ...   \n",
       "Category                                           ART_AND_DESIGN   \n",
       "Rating                                                        4.7   \n",
       "Reviews                                                     87510   \n",
       "Size                                                         8.7M   \n",
       "Installs                                               5,000,000+   \n",
       "Type                                                         Free   \n",
       "Price                                                           0   \n",
       "Content Rating                                           Everyone   \n",
       "Genres                                               Art & Design   \n",
       "Last Updated                                       August 1, 2018   \n",
       "Current Ver                                                 1.2.4   \n",
       "Android Ver                                          4.0.3 and up   \n",
       "\n",
       "                                    3                                      4  \n",
       "App             Sketch - Draw & Paint  Pixel Draw - Number Art Coloring Book  \n",
       "Category               ART_AND_DESIGN                         ART_AND_DESIGN  \n",
       "Rating                            4.5                                    4.3  \n",
       "Reviews                        215644                                    967  \n",
       "Size                              25M                                   2.8M  \n",
       "Installs                  50,000,000+                               100,000+  \n",
       "Type                             Free                                   Free  \n",
       "Price                               0                                      0  \n",
       "Content Rating                   Teen                               Everyone  \n",
       "Genres                   Art & Design                Art & Design;Creativity  \n",
       "Last Updated             June 8, 2018                          June 20, 2018  \n",
       "Current Ver        Varies with device                                    1.1  \n",
       "Android Ver                4.2 and up                             4.4 and up  "
      ]
     },
     "execution_count": 3,
     "metadata": {},
     "output_type": "execute_result"
    }
   ],
   "source": [
    "# Display first five samples\n",
    "\n",
    "df.head().T"
   ]
  },
  {
   "cell_type": "code",
   "execution_count": 4,
   "id": "d30c9908",
   "metadata": {
    "ExecuteTime": {
     "end_time": "2023-12-16T16:01:03.471605Z",
     "start_time": "2023-12-16T16:01:03.455996Z"
    }
   },
   "outputs": [
    {
     "data": {
      "text/html": [
       "<div>\n",
       "<style scoped>\n",
       "    .dataframe tbody tr th:only-of-type {\n",
       "        vertical-align: middle;\n",
       "    }\n",
       "\n",
       "    .dataframe tbody tr th {\n",
       "        vertical-align: top;\n",
       "    }\n",
       "\n",
       "    .dataframe thead th {\n",
       "        text-align: right;\n",
       "    }\n",
       "</style>\n",
       "<table border=\"1\" class=\"dataframe\">\n",
       "  <thead>\n",
       "    <tr style=\"text-align: right;\">\n",
       "      <th></th>\n",
       "      <th>10836</th>\n",
       "      <th>10837</th>\n",
       "      <th>10838</th>\n",
       "      <th>10839</th>\n",
       "      <th>10840</th>\n",
       "    </tr>\n",
       "  </thead>\n",
       "  <tbody>\n",
       "    <tr>\n",
       "      <th>App</th>\n",
       "      <td>Sya9a Maroc - FR</td>\n",
       "      <td>Fr. Mike Schmitz Audio Teachings</td>\n",
       "      <td>Parkinson Exercices FR</td>\n",
       "      <td>The SCP Foundation DB fr nn5n</td>\n",
       "      <td>iHoroscope - 2018 Daily Horoscope &amp; Astrology</td>\n",
       "    </tr>\n",
       "    <tr>\n",
       "      <th>Category</th>\n",
       "      <td>FAMILY</td>\n",
       "      <td>FAMILY</td>\n",
       "      <td>MEDICAL</td>\n",
       "      <td>BOOKS_AND_REFERENCE</td>\n",
       "      <td>LIFESTYLE</td>\n",
       "    </tr>\n",
       "    <tr>\n",
       "      <th>Rating</th>\n",
       "      <td>4.5</td>\n",
       "      <td>5.0</td>\n",
       "      <td>NaN</td>\n",
       "      <td>4.5</td>\n",
       "      <td>4.5</td>\n",
       "    </tr>\n",
       "    <tr>\n",
       "      <th>Reviews</th>\n",
       "      <td>38</td>\n",
       "      <td>4</td>\n",
       "      <td>3</td>\n",
       "      <td>114</td>\n",
       "      <td>398307</td>\n",
       "    </tr>\n",
       "    <tr>\n",
       "      <th>Size</th>\n",
       "      <td>53M</td>\n",
       "      <td>3.6M</td>\n",
       "      <td>9.5M</td>\n",
       "      <td>Varies with device</td>\n",
       "      <td>19M</td>\n",
       "    </tr>\n",
       "    <tr>\n",
       "      <th>Installs</th>\n",
       "      <td>5,000+</td>\n",
       "      <td>100+</td>\n",
       "      <td>1,000+</td>\n",
       "      <td>1,000+</td>\n",
       "      <td>10,000,000+</td>\n",
       "    </tr>\n",
       "    <tr>\n",
       "      <th>Type</th>\n",
       "      <td>Free</td>\n",
       "      <td>Free</td>\n",
       "      <td>Free</td>\n",
       "      <td>Free</td>\n",
       "      <td>Free</td>\n",
       "    </tr>\n",
       "    <tr>\n",
       "      <th>Price</th>\n",
       "      <td>0</td>\n",
       "      <td>0</td>\n",
       "      <td>0</td>\n",
       "      <td>0</td>\n",
       "      <td>0</td>\n",
       "    </tr>\n",
       "    <tr>\n",
       "      <th>Content Rating</th>\n",
       "      <td>Everyone</td>\n",
       "      <td>Everyone</td>\n",
       "      <td>Everyone</td>\n",
       "      <td>Mature 17+</td>\n",
       "      <td>Everyone</td>\n",
       "    </tr>\n",
       "    <tr>\n",
       "      <th>Genres</th>\n",
       "      <td>Education</td>\n",
       "      <td>Education</td>\n",
       "      <td>Medical</td>\n",
       "      <td>Books &amp; Reference</td>\n",
       "      <td>Lifestyle</td>\n",
       "    </tr>\n",
       "    <tr>\n",
       "      <th>Last Updated</th>\n",
       "      <td>July 25, 2017</td>\n",
       "      <td>July 6, 2018</td>\n",
       "      <td>January 20, 2017</td>\n",
       "      <td>January 19, 2015</td>\n",
       "      <td>July 25, 2018</td>\n",
       "    </tr>\n",
       "    <tr>\n",
       "      <th>Current Ver</th>\n",
       "      <td>1.48</td>\n",
       "      <td>1.0</td>\n",
       "      <td>1.0</td>\n",
       "      <td>Varies with device</td>\n",
       "      <td>Varies with device</td>\n",
       "    </tr>\n",
       "    <tr>\n",
       "      <th>Android Ver</th>\n",
       "      <td>4.1 and up</td>\n",
       "      <td>4.1 and up</td>\n",
       "      <td>2.2 and up</td>\n",
       "      <td>Varies with device</td>\n",
       "      <td>Varies with device</td>\n",
       "    </tr>\n",
       "  </tbody>\n",
       "</table>\n",
       "</div>"
      ],
      "text/plain": [
       "                           10836                             10837  \\\n",
       "App             Sya9a Maroc - FR  Fr. Mike Schmitz Audio Teachings   \n",
       "Category                  FAMILY                            FAMILY   \n",
       "Rating                       4.5                               5.0   \n",
       "Reviews                       38                                 4   \n",
       "Size                         53M                              3.6M   \n",
       "Installs                  5,000+                              100+   \n",
       "Type                        Free                              Free   \n",
       "Price                          0                                 0   \n",
       "Content Rating          Everyone                          Everyone   \n",
       "Genres                 Education                         Education   \n",
       "Last Updated       July 25, 2017                      July 6, 2018   \n",
       "Current Ver                 1.48                               1.0   \n",
       "Android Ver           4.1 and up                        4.1 and up   \n",
       "\n",
       "                                 10838                          10839  \\\n",
       "App             Parkinson Exercices FR  The SCP Foundation DB fr nn5n   \n",
       "Category                       MEDICAL            BOOKS_AND_REFERENCE   \n",
       "Rating                             NaN                            4.5   \n",
       "Reviews                              3                            114   \n",
       "Size                              9.5M             Varies with device   \n",
       "Installs                        1,000+                         1,000+   \n",
       "Type                              Free                           Free   \n",
       "Price                                0                              0   \n",
       "Content Rating                Everyone                     Mature 17+   \n",
       "Genres                         Medical              Books & Reference   \n",
       "Last Updated          January 20, 2017               January 19, 2015   \n",
       "Current Ver                        1.0             Varies with device   \n",
       "Android Ver                 2.2 and up             Varies with device   \n",
       "\n",
       "                                                        10840  \n",
       "App             iHoroscope - 2018 Daily Horoscope & Astrology  \n",
       "Category                                            LIFESTYLE  \n",
       "Rating                                                    4.5  \n",
       "Reviews                                                398307  \n",
       "Size                                                      19M  \n",
       "Installs                                          10,000,000+  \n",
       "Type                                                     Free  \n",
       "Price                                                       0  \n",
       "Content Rating                                       Everyone  \n",
       "Genres                                              Lifestyle  \n",
       "Last Updated                                    July 25, 2018  \n",
       "Current Ver                                Varies with device  \n",
       "Android Ver                                Varies with device  "
      ]
     },
     "execution_count": 4,
     "metadata": {},
     "output_type": "execute_result"
    }
   ],
   "source": [
    "df.tail().T  # display last 5 rows from the dataset"
   ]
  },
  {
   "cell_type": "code",
   "execution_count": 5,
   "id": "6106ada1",
   "metadata": {
    "ExecuteTime": {
     "end_time": "2023-12-16T16:01:03.479842Z",
     "start_time": "2023-12-16T16:01:03.473152Z"
    }
   },
   "outputs": [
    {
     "data": {
      "text/plain": [
       "(10841, 13)"
      ]
     },
     "execution_count": 5,
     "metadata": {},
     "output_type": "execute_result"
    }
   ],
   "source": [
    "df.shape     # returns no of rows and columns present in the dataset"
   ]
  },
  {
   "cell_type": "code",
   "execution_count": 6,
   "id": "ca2714bf",
   "metadata": {
    "ExecuteTime": {
     "end_time": "2023-12-16T16:01:03.595980Z",
     "start_time": "2023-12-16T16:01:03.482140Z"
    },
    "scrolled": false
   },
   "outputs": [
    {
     "name": "stdout",
     "output_type": "stream",
     "text": [
      "<class 'pandas.core.frame.DataFrame'>\n",
      "RangeIndex: 10841 entries, 0 to 10840\n",
      "Data columns (total 13 columns):\n",
      " #   Column          Non-Null Count  Dtype  \n",
      "---  ------          --------------  -----  \n",
      " 0   App             10841 non-null  object \n",
      " 1   Category        10841 non-null  object \n",
      " 2   Rating          9367 non-null   float64\n",
      " 3   Reviews         10841 non-null  object \n",
      " 4   Size            10841 non-null  object \n",
      " 5   Installs        10841 non-null  object \n",
      " 6   Type            10840 non-null  object \n",
      " 7   Price           10841 non-null  object \n",
      " 8   Content Rating  10840 non-null  object \n",
      " 9   Genres          10841 non-null  object \n",
      " 10  Last Updated    10841 non-null  object \n",
      " 11  Current Ver     10833 non-null  object \n",
      " 12  Android Ver     10838 non-null  object \n",
      "dtypes: float64(1), object(12)\n",
      "memory usage: 1.1+ MB\n"
     ]
    }
   ],
   "source": [
    "df.info()    # return datatypes of each column and non-null values in it."
   ]
  },
  {
   "cell_type": "code",
   "execution_count": 7,
   "id": "7f96c9ee",
   "metadata": {
    "ExecuteTime": {
     "end_time": "2023-12-16T16:01:03.614730Z",
     "start_time": "2023-12-16T16:01:03.598039Z"
    }
   },
   "outputs": [
    {
     "data": {
      "text/plain": [
       "Index(['Rating', 'Type', 'Content Rating', 'Current Ver', 'Android Ver'], dtype='object')"
      ]
     },
     "execution_count": 7,
     "metadata": {},
     "output_type": "execute_result"
    }
   ],
   "source": [
    "df.columns[np.sum(df.isnull()) != 0]    # lists the columns having null values in it."
   ]
  },
  {
   "cell_type": "code",
   "execution_count": 8,
   "id": "e86c1a88",
   "metadata": {
    "ExecuteTime": {
     "end_time": "2023-12-16T16:01:03.635350Z",
     "start_time": "2023-12-16T16:01:03.616921Z"
    }
   },
   "outputs": [
    {
     "data": {
      "text/plain": [
       "Index(['App', 'Category', 'Reviews', 'Size', 'Installs', 'Price', 'Genres',\n",
       "       'Last Updated'],\n",
       "      dtype='object')"
      ]
     },
     "execution_count": 8,
     "metadata": {},
     "output_type": "execute_result"
    }
   ],
   "source": [
    "df.columns[np.sum(df.isnull()) == 0]    # lists the columns having no null values in it."
   ]
  },
  {
   "cell_type": "code",
   "execution_count": 9,
   "id": "d21ae1c4",
   "metadata": {
    "ExecuteTime": {
     "end_time": "2023-12-16T16:01:03.652541Z",
     "start_time": "2023-12-16T16:01:03.636357Z"
    }
   },
   "outputs": [
    {
     "name": "stdout",
     "output_type": "stream",
     "text": [
      "\"App\" - 9660 unique values.\n",
      "\"Category\" - 34 unique values.\n",
      "\"Rating\" - 40 unique values.\n",
      "\"Reviews\" - 6002 unique values.\n",
      "\"Size\" - 462 unique values.\n",
      "\"Installs\" - 22 unique values.\n",
      "\"Type\" - 3 unique values.\n",
      "\"Price\" - 93 unique values.\n",
      "\"Content Rating\" - 6 unique values.\n",
      "\"Genres\" - 120 unique values.\n",
      "\"Last Updated\" - 1378 unique values.\n",
      "\"Current Ver\" - 2832 unique values.\n",
      "\"Android Ver\" - 33 unique values.\n"
     ]
    }
   ],
   "source": [
    "# Display unique values present in each column.\n",
    "for col in df.columns:\n",
    "    unq_val = df[col].nunique()\n",
    "    print(f\"\\\"{col}\\\" - {str(unq_val)} unique values.\")"
   ]
  },
  {
   "cell_type": "markdown",
   "id": "d10a7631",
   "metadata": {},
   "source": [
    "### Inferences\n",
    "\n",
    "1. The Dataset has 10841 rows and 13 columns.\n",
    "2. In the dataset,12 columns are object and 1 column is of float data type.\n",
    "3. 5 Columns in the dataset has null values and remaining 7 columns don't have any null values in it."
   ]
  },
  {
   "cell_type": "markdown",
   "id": "d657b3b7",
   "metadata": {
    "ExecuteTime": {
     "end_time": "2023-12-14T14:58:14.540146Z",
     "start_time": "2023-12-14T14:58:14.530834Z"
    }
   },
   "source": [
    "<font size=3> Q3) Check summary statistics of the dataset. List out the columns that need to be worked upon for model\n",
    "building."
   ]
  },
  {
   "cell_type": "code",
   "execution_count": 10,
   "id": "530eb038",
   "metadata": {
    "ExecuteTime": {
     "end_time": "2023-12-16T16:01:03.700488Z",
     "start_time": "2023-12-16T16:01:03.654551Z"
    },
    "scrolled": false
   },
   "outputs": [
    {
     "data": {
      "text/html": [
       "<div>\n",
       "<style scoped>\n",
       "    .dataframe tbody tr th:only-of-type {\n",
       "        vertical-align: middle;\n",
       "    }\n",
       "\n",
       "    .dataframe tbody tr th {\n",
       "        vertical-align: top;\n",
       "    }\n",
       "\n",
       "    .dataframe thead th {\n",
       "        text-align: right;\n",
       "    }\n",
       "</style>\n",
       "<table border=\"1\" class=\"dataframe\">\n",
       "  <thead>\n",
       "    <tr style=\"text-align: right;\">\n",
       "      <th></th>\n",
       "      <th>Rating</th>\n",
       "    </tr>\n",
       "  </thead>\n",
       "  <tbody>\n",
       "    <tr>\n",
       "      <th>count</th>\n",
       "      <td>9367.000000</td>\n",
       "    </tr>\n",
       "    <tr>\n",
       "      <th>mean</th>\n",
       "      <td>4.193338</td>\n",
       "    </tr>\n",
       "    <tr>\n",
       "      <th>std</th>\n",
       "      <td>0.537431</td>\n",
       "    </tr>\n",
       "    <tr>\n",
       "      <th>min</th>\n",
       "      <td>1.000000</td>\n",
       "    </tr>\n",
       "    <tr>\n",
       "      <th>25%</th>\n",
       "      <td>4.000000</td>\n",
       "    </tr>\n",
       "    <tr>\n",
       "      <th>50%</th>\n",
       "      <td>4.300000</td>\n",
       "    </tr>\n",
       "    <tr>\n",
       "      <th>75%</th>\n",
       "      <td>4.500000</td>\n",
       "    </tr>\n",
       "    <tr>\n",
       "      <th>max</th>\n",
       "      <td>19.000000</td>\n",
       "    </tr>\n",
       "  </tbody>\n",
       "</table>\n",
       "</div>"
      ],
      "text/plain": [
       "            Rating\n",
       "count  9367.000000\n",
       "mean      4.193338\n",
       "std       0.537431\n",
       "min       1.000000\n",
       "25%       4.000000\n",
       "50%       4.300000\n",
       "75%       4.500000\n",
       "max      19.000000"
      ]
     },
     "execution_count": 10,
     "metadata": {},
     "output_type": "execute_result"
    }
   ],
   "source": [
    "df.describe()      # generate summary statistics for numeric column from the dataset."
   ]
  },
  {
   "cell_type": "markdown",
   "id": "afbd787e",
   "metadata": {},
   "source": [
    "### Inferences\n",
    "\n",
    "1. Every app in the dataset has an average rating of ~4.\n",
    "2. Minimum rating for an app in the dataset is 1.\n",
    "3. Maximum rating for an app in the dataset is 4.\n",
    "4. Half of apps in the dataset has a rating below 4.3 and remaining half of the apps in the dataset has rating above 4.3.\n",
    "5. There is a outliers in rating column."
   ]
  },
  {
   "cell_type": "code",
   "execution_count": 11,
   "id": "d07b7bb4",
   "metadata": {
    "ExecuteTime": {
     "end_time": "2023-12-16T16:01:03.741750Z",
     "start_time": "2023-12-16T16:01:03.702631Z"
    },
    "scrolled": false
   },
   "outputs": [
    {
     "data": {
      "text/html": [
       "<div>\n",
       "<style scoped>\n",
       "    .dataframe tbody tr th:only-of-type {\n",
       "        vertical-align: middle;\n",
       "    }\n",
       "\n",
       "    .dataframe tbody tr th {\n",
       "        vertical-align: top;\n",
       "    }\n",
       "\n",
       "    .dataframe thead th {\n",
       "        text-align: right;\n",
       "    }\n",
       "</style>\n",
       "<table border=\"1\" class=\"dataframe\">\n",
       "  <thead>\n",
       "    <tr style=\"text-align: right;\">\n",
       "      <th></th>\n",
       "      <th>count</th>\n",
       "      <th>unique</th>\n",
       "      <th>top</th>\n",
       "      <th>freq</th>\n",
       "    </tr>\n",
       "  </thead>\n",
       "  <tbody>\n",
       "    <tr>\n",
       "      <th>App</th>\n",
       "      <td>10841</td>\n",
       "      <td>9660</td>\n",
       "      <td>ROBLOX</td>\n",
       "      <td>9</td>\n",
       "    </tr>\n",
       "    <tr>\n",
       "      <th>Category</th>\n",
       "      <td>10841</td>\n",
       "      <td>34</td>\n",
       "      <td>FAMILY</td>\n",
       "      <td>1972</td>\n",
       "    </tr>\n",
       "    <tr>\n",
       "      <th>Reviews</th>\n",
       "      <td>10841</td>\n",
       "      <td>6002</td>\n",
       "      <td>0</td>\n",
       "      <td>596</td>\n",
       "    </tr>\n",
       "    <tr>\n",
       "      <th>Size</th>\n",
       "      <td>10841</td>\n",
       "      <td>462</td>\n",
       "      <td>Varies with device</td>\n",
       "      <td>1695</td>\n",
       "    </tr>\n",
       "    <tr>\n",
       "      <th>Installs</th>\n",
       "      <td>10841</td>\n",
       "      <td>22</td>\n",
       "      <td>1,000,000+</td>\n",
       "      <td>1579</td>\n",
       "    </tr>\n",
       "    <tr>\n",
       "      <th>Type</th>\n",
       "      <td>10840</td>\n",
       "      <td>3</td>\n",
       "      <td>Free</td>\n",
       "      <td>10039</td>\n",
       "    </tr>\n",
       "    <tr>\n",
       "      <th>Price</th>\n",
       "      <td>10841</td>\n",
       "      <td>93</td>\n",
       "      <td>0</td>\n",
       "      <td>10040</td>\n",
       "    </tr>\n",
       "    <tr>\n",
       "      <th>Content Rating</th>\n",
       "      <td>10840</td>\n",
       "      <td>6</td>\n",
       "      <td>Everyone</td>\n",
       "      <td>8714</td>\n",
       "    </tr>\n",
       "    <tr>\n",
       "      <th>Genres</th>\n",
       "      <td>10841</td>\n",
       "      <td>120</td>\n",
       "      <td>Tools</td>\n",
       "      <td>842</td>\n",
       "    </tr>\n",
       "    <tr>\n",
       "      <th>Last Updated</th>\n",
       "      <td>10841</td>\n",
       "      <td>1378</td>\n",
       "      <td>August 3, 2018</td>\n",
       "      <td>326</td>\n",
       "    </tr>\n",
       "    <tr>\n",
       "      <th>Current Ver</th>\n",
       "      <td>10833</td>\n",
       "      <td>2832</td>\n",
       "      <td>Varies with device</td>\n",
       "      <td>1459</td>\n",
       "    </tr>\n",
       "    <tr>\n",
       "      <th>Android Ver</th>\n",
       "      <td>10838</td>\n",
       "      <td>33</td>\n",
       "      <td>4.1 and up</td>\n",
       "      <td>2451</td>\n",
       "    </tr>\n",
       "  </tbody>\n",
       "</table>\n",
       "</div>"
      ],
      "text/plain": [
       "                count unique                 top   freq\n",
       "App             10841   9660              ROBLOX      9\n",
       "Category        10841     34              FAMILY   1972\n",
       "Reviews         10841   6002                   0    596\n",
       "Size            10841    462  Varies with device   1695\n",
       "Installs        10841     22          1,000,000+   1579\n",
       "Type            10840      3                Free  10039\n",
       "Price           10841     93                   0  10040\n",
       "Content Rating  10840      6            Everyone   8714\n",
       "Genres          10841    120               Tools    842\n",
       "Last Updated    10841   1378      August 3, 2018    326\n",
       "Current Ver     10833   2832  Varies with device   1459\n",
       "Android Ver     10838     33          4.1 and up   2451"
      ]
     },
     "execution_count": 11,
     "metadata": {},
     "output_type": "execute_result"
    }
   ],
   "source": [
    "df.describe(include = 'object').T   # generate summary statistics for categorical columns from the dataset."
   ]
  },
  {
   "cell_type": "markdown",
   "id": "3ade6509",
   "metadata": {},
   "source": [
    "### Inferences\n",
    "\n",
    "1. In the dataset, there are 120 different genres of apps are avaiable.\n",
    "2. Majority of the apps in the dataset are free.\n",
    "3. The dataset has about 10841 apps in it."
   ]
  },
  {
   "cell_type": "markdown",
   "id": "276e3806",
   "metadata": {},
   "source": [
    "<font size=3> Q4) Check if there are any duplicate records in the dataset? if any drop them."
   ]
  },
  {
   "cell_type": "code",
   "execution_count": 12,
   "id": "06ce560f",
   "metadata": {
    "ExecuteTime": {
     "end_time": "2023-12-16T16:01:03.762787Z",
     "start_time": "2023-12-16T16:01:03.744763Z"
    }
   },
   "outputs": [
    {
     "data": {
      "text/plain": [
       "483"
      ]
     },
     "execution_count": 12,
     "metadata": {},
     "output_type": "execute_result"
    }
   ],
   "source": [
    "# checking for duplicate records \n",
    "\n",
    "df.duplicated().sum()"
   ]
  },
  {
   "cell_type": "code",
   "execution_count": 13,
   "id": "98e1ea6c",
   "metadata": {
    "ExecuteTime": {
     "end_time": "2023-12-16T16:01:03.782295Z",
     "start_time": "2023-12-16T16:01:03.762787Z"
    }
   },
   "outputs": [],
   "source": [
    "df.drop_duplicates(inplace = True)   # remove duplicate records from the dataset."
   ]
  },
  {
   "cell_type": "markdown",
   "id": "a533a77d",
   "metadata": {},
   "source": [
    "<font size=3> Q5) Check the unique categories of the column 'Category', Is there any invalid category? If yes, drop them. "
   ]
  },
  {
   "cell_type": "code",
   "execution_count": 14,
   "id": "86ac56be",
   "metadata": {
    "ExecuteTime": {
     "end_time": "2023-12-16T16:01:03.789517Z",
     "start_time": "2023-12-16T16:01:03.784560Z"
    }
   },
   "outputs": [
    {
     "data": {
      "text/plain": [
       "array(['ART_AND_DESIGN', 'AUTO_AND_VEHICLES', 'BEAUTY',\n",
       "       'BOOKS_AND_REFERENCE', 'BUSINESS', 'COMICS', 'COMMUNICATION',\n",
       "       'DATING', 'EDUCATION', 'ENTERTAINMENT', 'EVENTS', 'FINANCE',\n",
       "       'FOOD_AND_DRINK', 'HEALTH_AND_FITNESS', 'HOUSE_AND_HOME',\n",
       "       'LIBRARIES_AND_DEMO', 'LIFESTYLE', 'GAME', 'FAMILY', 'MEDICAL',\n",
       "       'SOCIAL', 'SHOPPING', 'PHOTOGRAPHY', 'SPORTS', 'TRAVEL_AND_LOCAL',\n",
       "       'TOOLS', 'PERSONALIZATION', 'PRODUCTIVITY', 'PARENTING', 'WEATHER',\n",
       "       'VIDEO_PLAYERS', 'NEWS_AND_MAGAZINES', 'MAPS_AND_NAVIGATION',\n",
       "       '1.9'], dtype=object)"
      ]
     },
     "execution_count": 14,
     "metadata": {},
     "output_type": "execute_result"
    }
   ],
   "source": [
    "df['Category'].unique()         # list of unique values of Category column"
   ]
  },
  {
   "cell_type": "code",
   "execution_count": 15,
   "id": "9f8d2b82",
   "metadata": {
    "ExecuteTime": {
     "end_time": "2023-12-16T16:01:03.803738Z",
     "start_time": "2023-12-16T16:01:03.791722Z"
    },
    "scrolled": true
   },
   "outputs": [],
   "source": [
    "lst = df[df['Category'] == '1.9'].index     # return records index having value as 1.9 in the Category column."
   ]
  },
  {
   "cell_type": "code",
   "execution_count": 16,
   "id": "9f3c4037",
   "metadata": {
    "ExecuteTime": {
     "end_time": "2023-12-16T16:01:03.812331Z",
     "start_time": "2023-12-16T16:01:03.803738Z"
    }
   },
   "outputs": [],
   "source": [
    "df.drop(lst, inplace = True)      # drop the record "
   ]
  },
  {
   "cell_type": "markdown",
   "id": "5863fd08",
   "metadata": {},
   "source": [
    "<font size=3> Q6) Check if there are missing values present in the column Rating, If any? drop them and and create a new\n",
    "column as 'Rating_category' by converting ratings to high and low categories(>3.5 is high rest low).\n"
   ]
  },
  {
   "cell_type": "code",
   "execution_count": 17,
   "id": "d604d35b",
   "metadata": {
    "ExecuteTime": {
     "end_time": "2023-12-16T16:01:03.820011Z",
     "start_time": "2023-12-16T16:01:03.812331Z"
    },
    "scrolled": true
   },
   "outputs": [
    {
     "data": {
      "text/plain": [
       "1465"
      ]
     },
     "execution_count": 17,
     "metadata": {},
     "output_type": "execute_result"
    }
   ],
   "source": [
    "# Checking for missing values in column rating\n",
    "\n",
    "df['Rating'].isnull().sum()"
   ]
  },
  {
   "cell_type": "code",
   "execution_count": 18,
   "id": "787d5cf8",
   "metadata": {
    "ExecuteTime": {
     "end_time": "2023-12-16T16:01:03.830150Z",
     "start_time": "2023-12-16T16:01:03.822629Z"
    }
   },
   "outputs": [],
   "source": [
    "df.dropna(subset = 'Rating', inplace = True)        # remove null values from Rating column"
   ]
  },
  {
   "cell_type": "code",
   "execution_count": 19,
   "id": "30f8702f",
   "metadata": {
    "ExecuteTime": {
     "end_time": "2023-12-16T16:01:03.840400Z",
     "start_time": "2023-12-16T16:01:03.830150Z"
    }
   },
   "outputs": [],
   "source": [
    "df['Rating_category'] = df['Rating'].apply(lambda x : 'high' if x > 3.5 else 'low')     # Creating new column"
   ]
  },
  {
   "cell_type": "markdown",
   "id": "318451d3",
   "metadata": {},
   "source": [
    "<font size=3> Q7) Check the distribution of the newly created column 'Rating_category' and comment on the distribution.\n"
   ]
  },
  {
   "cell_type": "code",
   "execution_count": 20,
   "id": "643dcbb2",
   "metadata": {
    "ExecuteTime": {
     "end_time": "2023-12-16T16:01:05.254329Z",
     "start_time": "2023-12-16T16:01:03.841435Z"
    }
   },
   "outputs": [
    {
     "data": {
      "text/plain": [
       "[Text(0, 0, '8012'), Text(0, 0, '880')]"
      ]
     },
     "execution_count": 20,
     "metadata": {},
     "output_type": "execute_result"
    },
    {
     "data": {
      "image/png": "[encoded data removed]",
      "text/plain": [
       "<Figure size 640x480 with 1 Axes>"
      ]
     },
     "metadata": {},
     "output_type": "display_data"
    }
   ],
   "source": [
    "plt.title(\"Distribution of Rating_category column\")\n",
    "ax = sns.countplot(data = df, x = 'Rating_category')\n",
    "plt.bar_label(ax.containers[0])"
   ]
  },
  {
   "cell_type": "markdown",
   "id": "9a52288c",
   "metadata": {
    "ExecuteTime": {
     "end_time": "2023-12-15T17:36:40.667231Z",
     "start_time": "2023-12-15T17:36:40.503503Z"
    }
   },
   "source": [
    "### Inferences\n",
    "\n",
    "1. Almost all apps have rating as high in the dataset.\n",
    "2. Very fews apps have rating as low in the dataset."
   ]
  },
  {
   "cell_type": "markdown",
   "id": "43ca0852",
   "metadata": {},
   "source": [
    "<font size=3> Q8) Convert the column \"Reviews'' to numeric data type and check the presence of outliers in the column and\n",
    "handle the outliers using a transformation approach.(Hint: Use log transformation)."
   ]
  },
  {
   "cell_type": "code",
   "execution_count": 21,
   "id": "b20488f9",
   "metadata": {
    "ExecuteTime": {
     "end_time": "2023-12-16T16:01:05.260285Z",
     "start_time": "2023-12-16T16:01:05.255698Z"
    }
   },
   "outputs": [],
   "source": [
    "df['Reviews'] = df['Reviews'].astype(int)        # convert review column from object type to int type"
   ]
  },
  {
   "cell_type": "code",
   "execution_count": 22,
   "id": "21bb4e6f",
   "metadata": {
    "ExecuteTime": {
     "end_time": "2023-12-16T16:01:05.473926Z",
     "start_time": "2023-12-16T16:01:05.262244Z"
    }
   },
   "outputs": [
    {
     "data": {
      "text/plain": [
       "<Axes: title={'center': 'Checking Outlier in Reviews Column'}, xlabel='Reviews'>"
      ]
     },
     "execution_count": 22,
     "metadata": {},
     "output_type": "execute_result"
    },
    {
     "data": {
      "image/png": "[encoded data removed]",
      "text/plain": [
       "<Figure size 640x480 with 1 Axes>"
      ]
     },
     "metadata": {},
     "output_type": "display_data"
    }
   ],
   "source": [
    "# Checking for outlier in the column\n",
    "plt.title(\"Checking Outlier in Reviews Column\")\n",
    "sns.boxplot(data = df, x = 'Reviews')"
   ]
  },
  {
   "cell_type": "markdown",
   "id": "438d492f",
   "metadata": {},
   "source": [
    "1. From above boxplot, we can conclude 'Reviews' column has many extreme values in it."
   ]
  },
  {
   "cell_type": "code",
   "execution_count": 23,
   "id": "920a6208",
   "metadata": {
    "ExecuteTime": {
     "end_time": "2023-12-16T16:01:05.491263Z",
     "start_time": "2023-12-16T16:01:05.475945Z"
    }
   },
   "outputs": [],
   "source": [
    "# Treating outlier using transformation technique\n",
    "\n",
    "df['Reviews'] = np.log(df['Reviews'])"
   ]
  },
  {
   "cell_type": "code",
   "execution_count": 24,
   "id": "98dd9fca",
   "metadata": {
    "ExecuteTime": {
     "end_time": "2023-12-16T16:01:05.612157Z",
     "start_time": "2023-12-16T16:01:05.494278Z"
    }
   },
   "outputs": [
    {
     "data": {
      "text/plain": [
       "<Axes: title={'center': 'Checking Outlier'}, xlabel='Reviews'>"
      ]
     },
     "execution_count": 24,
     "metadata": {},
     "output_type": "execute_result"
    },
    {
     "data": {
      "image/png": "[encoded data removed]",
      "text/plain": [
       "<Figure size 640x480 with 1 Axes>"
      ]
     },
     "metadata": {},
     "output_type": "display_data"
    }
   ],
   "source": [
    "# Checking for outlier after transformation\n",
    "\n",
    "plt.title(\"Checking Outlier\")\n",
    "sns.boxplot(data = df, x = 'Reviews')"
   ]
  },
  {
   "cell_type": "markdown",
   "id": "71d4705d",
   "metadata": {},
   "source": [
    "1. From above box plot, it's clear after using transformation technique on 'Reviews' column their is no outlier in it."
   ]
  },
  {
   "cell_type": "markdown",
   "id": "ad545052",
   "metadata": {},
   "source": [
    "<font size=3> Q9) The column 'Size' contains alphanumeric values, treat the non numeric data and convert the column into\n",
    "suitable data type. (hint: Replace M with 1 million and K with 1 thousand, and drop the entries where\n",
    "size='Varies with device')."
   ]
  },
  {
   "cell_type": "code",
   "execution_count": 25,
   "id": "17a181c7",
   "metadata": {
    "ExecuteTime": {
     "end_time": "2023-12-16T16:01:05.636103Z",
     "start_time": "2023-12-16T16:01:05.613167Z"
    }
   },
   "outputs": [],
   "source": [
    "df.Size = df.Size.str.replace('M',' million').str.replace('k', ' thousand')    # treating non-numeric data"
   ]
  },
  {
   "cell_type": "code",
   "execution_count": 26,
   "id": "0c0292e3",
   "metadata": {
    "ExecuteTime": {
     "end_time": "2023-12-16T16:01:05.651162Z",
     "start_time": "2023-12-16T16:01:05.636103Z"
    }
   },
   "outputs": [],
   "source": [
    "drop_records = df[df.Size == 'Varies with device'].index          # finding indexes of those records having value as \"Varies \n",
    "                                                                  # with device\""
   ]
  },
  {
   "cell_type": "code",
   "execution_count": 27,
   "id": "9f2b9a22",
   "metadata": {
    "ExecuteTime": {
     "end_time": "2023-12-16T16:01:05.659636Z",
     "start_time": "2023-12-16T16:01:05.652189Z"
    }
   },
   "outputs": [],
   "source": [
    "df.drop(drop_records, inplace = True)                     # droping records whose size value is \"varies with device\""
   ]
  },
  {
   "cell_type": "markdown",
   "id": "70394e65",
   "metadata": {},
   "source": [
    "<font size=3> Q10) Check the column 'Installs', treat the unwanted characters and convert the column into a suitable data type."
   ]
  },
  {
   "cell_type": "code",
   "execution_count": 28,
   "id": "36c394a9",
   "metadata": {
    "ExecuteTime": {
     "end_time": "2023-12-16T16:01:05.665494Z",
     "start_time": "2023-12-16T16:01:05.659636Z"
    }
   },
   "outputs": [
    {
     "data": {
      "text/plain": [
       "array(['10,000+', '500,000+', '5,000,000+', '50,000,000+', '100,000+',\n",
       "       '50,000+', '1,000,000+', '10,000,000+', '5,000+', '100,000,000+',\n",
       "       '1,000+', '500,000,000+', '100+', '500+', '10+', '1,000,000,000+',\n",
       "       '5+', '50+', '1+'], dtype=object)"
      ]
     },
     "execution_count": 28,
     "metadata": {},
     "output_type": "execute_result"
    }
   ],
   "source": [
    "df.Installs.unique()"
   ]
  },
  {
   "cell_type": "code",
   "execution_count": 29,
   "id": "ceb2766e",
   "metadata": {
    "ExecuteTime": {
     "end_time": "2023-12-16T16:01:05.675670Z",
     "start_time": "2023-12-16T16:01:05.666757Z"
    }
   },
   "outputs": [],
   "source": [
    "df.Installs = df.Installs.str.replace(',','').str.replace('+','')     # removing unwanted character"
   ]
  },
  {
   "cell_type": "code",
   "execution_count": 30,
   "id": "a6389e5b",
   "metadata": {
    "ExecuteTime": {
     "end_time": "2023-12-16T16:01:05.683160Z",
     "start_time": "2023-12-16T16:01:05.675809Z"
    }
   },
   "outputs": [],
   "source": [
    "df.Installs = df.Installs.astype(int)      # converting Installs column from object type to int type."
   ]
  },
  {
   "cell_type": "markdown",
   "id": "9e0668e4",
   "metadata": {},
   "source": [
    "<font size=3> Q11) Check the column 'Price' , remove the unwanted characters and convert the column into a suitable data type.\n"
   ]
  },
  {
   "cell_type": "code",
   "execution_count": 31,
   "id": "b54d8253",
   "metadata": {
    "ExecuteTime": {
     "end_time": "2023-12-16T16:01:05.690898Z",
     "start_time": "2023-12-16T16:01:05.684176Z"
    }
   },
   "outputs": [
    {
     "data": {
      "text/plain": [
       "array(['0', '$4.99', '$6.99', '$7.99', '$3.99', '$5.99', '$2.99', '$1.99',\n",
       "       '$9.99', '$0.99', '$9.00', '$5.49', '$10.00', '$24.99', '$11.99',\n",
       "       '$79.99', '$16.99', '$14.99', '$29.99', '$12.99', '$3.49',\n",
       "       '$10.99', '$7.49', '$1.50', '$19.99', '$15.99', '$33.99', '$39.99',\n",
       "       '$2.49', '$4.49', '$1.70', '$1.49', '$3.88', '$399.99', '$17.99',\n",
       "       '$400.00', '$3.02', '$1.76', '$4.84', '$4.77', '$1.61', '$1.59',\n",
       "       '$6.49', '$1.29', '$299.99', '$379.99', '$37.99', '$18.99',\n",
       "       '$389.99', '$8.49', '$1.75', '$14.00', '$2.00', '$3.08', '$2.59',\n",
       "       '$19.40', '$15.46', '$8.99', '$3.04', '$13.99', '$4.29', '$3.28',\n",
       "       '$4.60', '$1.00', '$2.90', '$1.97', '$2.56', '$1.20'], dtype=object)"
      ]
     },
     "execution_count": 31,
     "metadata": {},
     "output_type": "execute_result"
    }
   ],
   "source": [
    "df.Price.unique()"
   ]
  },
  {
   "cell_type": "code",
   "execution_count": 32,
   "id": "5cf70b76",
   "metadata": {
    "ExecuteTime": {
     "end_time": "2023-12-16T16:01:05.697573Z",
     "start_time": "2023-12-16T16:01:05.690898Z"
    }
   },
   "outputs": [],
   "source": [
    "df.Price = df.Price.str.replace('$','')      # removing unwanted character"
   ]
  },
  {
   "cell_type": "code",
   "execution_count": 33,
   "id": "8b38c1d6",
   "metadata": {
    "ExecuteTime": {
     "end_time": "2023-12-16T16:01:05.703442Z",
     "start_time": "2023-12-16T16:01:05.698842Z"
    }
   },
   "outputs": [],
   "source": [
    "df.Price = df.Price.astype(float)       #converting price column from object to float type."
   ]
  },
  {
   "cell_type": "markdown",
   "id": "536475bc",
   "metadata": {},
   "source": [
    "<font size=3> Q12) Drop the columns which you think redundant for the analysis.(suggestion: drop column 'rating', since we\n",
    "created a new feature from it (i.e. rating_category) and the columns 'App', 'Rating' ,'Genres','Last Updated',\n",
    "'Current Ver','Android Ver' columns since which are redundant for our analysis)."
   ]
  },
  {
   "cell_type": "code",
   "execution_count": 34,
   "id": "43797bba",
   "metadata": {
    "ExecuteTime": {
     "end_time": "2023-12-16T16:01:05.712971Z",
     "start_time": "2023-12-16T16:01:05.704457Z"
    }
   },
   "outputs": [],
   "source": [
    "# Droping column which are reduadant for analysis\n",
    "\n",
    "df.drop(['Rating','App','Genres','Last Updated', 'Current Ver','Android Ver'], axis = 1, inplace = True)"
   ]
  },
  {
   "cell_type": "markdown",
   "id": "514aff2f",
   "metadata": {},
   "source": [
    "<font size=3> Q13) Encode the categorical columns.\n"
   ]
  },
  {
   "cell_type": "code",
   "execution_count": 35,
   "id": "95943e28",
   "metadata": {
    "ExecuteTime": {
     "end_time": "2023-12-16T16:01:05.732841Z",
     "start_time": "2023-12-16T16:01:05.712971Z"
    },
    "scrolled": false
   },
   "outputs": [
    {
     "data": {
      "text/html": [
       "<div>\n",
       "<style scoped>\n",
       "    .dataframe tbody tr th:only-of-type {\n",
       "        vertical-align: middle;\n",
       "    }\n",
       "\n",
       "    .dataframe tbody tr th {\n",
       "        vertical-align: top;\n",
       "    }\n",
       "\n",
       "    .dataframe thead th {\n",
       "        text-align: right;\n",
       "    }\n",
       "</style>\n",
       "<table border=\"1\" class=\"dataframe\">\n",
       "  <thead>\n",
       "    <tr style=\"text-align: right;\">\n",
       "      <th></th>\n",
       "      <th>Category</th>\n",
       "      <th>Size</th>\n",
       "      <th>Type</th>\n",
       "      <th>Content Rating</th>\n",
       "      <th>Rating_category</th>\n",
       "    </tr>\n",
       "  </thead>\n",
       "  <tbody>\n",
       "    <tr>\n",
       "      <th>count</th>\n",
       "      <td>7424</td>\n",
       "      <td>7424</td>\n",
       "      <td>7424</td>\n",
       "      <td>7424</td>\n",
       "      <td>7424</td>\n",
       "    </tr>\n",
       "    <tr>\n",
       "      <th>unique</th>\n",
       "      <td>33</td>\n",
       "      <td>413</td>\n",
       "      <td>2</td>\n",
       "      <td>6</td>\n",
       "      <td>2</td>\n",
       "    </tr>\n",
       "    <tr>\n",
       "      <th>top</th>\n",
       "      <td>FAMILY</td>\n",
       "      <td>14 million</td>\n",
       "      <td>Free</td>\n",
       "      <td>Everyone</td>\n",
       "      <td>high</td>\n",
       "    </tr>\n",
       "    <tr>\n",
       "      <th>freq</th>\n",
       "      <td>1591</td>\n",
       "      <td>154</td>\n",
       "      <td>6877</td>\n",
       "      <td>5958</td>\n",
       "      <td>6599</td>\n",
       "    </tr>\n",
       "  </tbody>\n",
       "</table>\n",
       "</div>"
      ],
      "text/plain": [
       "       Category        Size  Type Content Rating Rating_category\n",
       "count      7424        7424  7424           7424            7424\n",
       "unique       33         413     2              6               2\n",
       "top      FAMILY  14 million  Free       Everyone            high\n",
       "freq       1591         154  6877           5958            6599"
      ]
     },
     "execution_count": 35,
     "metadata": {},
     "output_type": "execute_result"
    }
   ],
   "source": [
    "df.describe(include = 'object')  # generate descriptive statistics for categorical data"
   ]
  },
  {
   "cell_type": "code",
   "execution_count": 36,
   "id": "555ed578",
   "metadata": {
    "ExecuteTime": {
     "end_time": "2023-12-16T16:01:05.739978Z",
     "start_time": "2023-12-16T16:01:05.733852Z"
    }
   },
   "outputs": [],
   "source": [
    "df.drop(['Category','Size'], axis = 1, inplace = True)      # drop the unwanted columns"
   ]
  },
  {
   "cell_type": "code",
   "execution_count": 37,
   "id": "8bbb6059",
   "metadata": {
    "ExecuteTime": {
     "end_time": "2023-12-16T16:01:05.748198Z",
     "start_time": "2023-12-16T16:01:05.740490Z"
    }
   },
   "outputs": [],
   "source": [
    "# Encoding type column using label encoding\n",
    "\n",
    "df.Type.replace(['Free', 'Paid'], [0, 1], inplace = True)"
   ]
  },
  {
   "cell_type": "code",
   "execution_count": 38,
   "id": "07a007f1",
   "metadata": {
    "ExecuteTime": {
     "end_time": "2023-12-16T16:01:05.755068Z",
     "start_time": "2023-12-16T16:01:05.749841Z"
    }
   },
   "outputs": [],
   "source": [
    "# Encoding Rating_category column using label Encoding\n",
    "\n",
    "df.Rating_category.replace(['high', 'low'], [1, 0], inplace = True)"
   ]
  },
  {
   "cell_type": "code",
   "execution_count": 39,
   "id": "e36a5daf",
   "metadata": {
    "ExecuteTime": {
     "end_time": "2023-12-16T16:01:05.770595Z",
     "start_time": "2023-12-16T16:01:05.759747Z"
    }
   },
   "outputs": [],
   "source": [
    "# Encoding Content Rating column using one hot Encoding\n",
    "\n",
    "dummies = pd.get_dummies(data = df, columns = ['Content Rating'], drop_first = True)"
   ]
  },
  {
   "cell_type": "markdown",
   "id": "1624bdf9",
   "metadata": {},
   "source": [
    "<font size=3> Q14) Segregate the target and independent features (Hint: Use Rating_category as the target)\n"
   ]
  },
  {
   "cell_type": "code",
   "execution_count": 40,
   "id": "9e718ab1",
   "metadata": {
    "ExecuteTime": {
     "end_time": "2023-12-16T16:01:05.778526Z",
     "start_time": "2023-12-16T16:01:05.771198Z"
    }
   },
   "outputs": [],
   "source": [
    "# Dividing the dataset into dependent and independent variable\n",
    "\n",
    "x = dummies.drop(['Rating_category'], axis = 1)\n",
    "y = dummies['Rating_category']"
   ]
  },
  {
   "cell_type": "code",
   "execution_count": 41,
   "id": "b0487d2e",
   "metadata": {
    "ExecuteTime": {
     "end_time": "2023-12-16T16:01:05.784685Z",
     "start_time": "2023-12-16T16:01:05.779541Z"
    }
   },
   "outputs": [
    {
     "data": {
      "text/plain": [
       "(7424,)"
      ]
     },
     "execution_count": 41,
     "metadata": {},
     "output_type": "execute_result"
    }
   ],
   "source": [
    "y.shape"
   ]
  },
  {
   "cell_type": "code",
   "execution_count": 49,
   "id": "4fcd7c7c",
   "metadata": {
    "ExecuteTime": {
     "end_time": "2023-12-16T16:01:26.277145Z",
     "start_time": "2023-12-16T16:01:26.271744Z"
    }
   },
   "outputs": [
    {
     "data": {
      "text/plain": [
       "Index(['Reviews', 'Installs', 'Type', 'Price', 'Content Rating_Everyone',\n",
       "       'Content Rating_Everyone 10+', 'Content Rating_Mature 17+',\n",
       "       'Content Rating_Teen', 'Content Rating_Unrated'],\n",
       "      dtype='object')"
      ]
     },
     "execution_count": 49,
     "metadata": {},
     "output_type": "execute_result"
    }
   ],
   "source": [
    "x.columns"
   ]
  },
  {
   "cell_type": "markdown",
   "id": "f940bd74",
   "metadata": {},
   "source": [
    "<font size=3> Q15) Split the dataset into train and test.\n"
   ]
  },
  {
   "cell_type": "code",
   "execution_count": 42,
   "id": "4be8e256",
   "metadata": {
    "ExecuteTime": {
     "end_time": "2023-12-16T16:01:08.295438Z",
     "start_time": "2023-12-16T16:01:05.785694Z"
    }
   },
   "outputs": [],
   "source": [
    "from sklearn.model_selection import train_test_split\n",
    "\n",
    "x_train, x_test, y_train, y_test = train_test_split(x, y, test_size = 0.3, random_state = 42)"
   ]
  },
  {
   "cell_type": "code",
   "execution_count": 54,
   "id": "f929ba0e",
   "metadata": {
    "ExecuteTime": {
     "end_time": "2023-12-16T16:02:23.593842Z",
     "start_time": "2023-12-16T16:02:23.587485Z"
    },
    "scrolled": true
   },
   "outputs": [
    {
     "data": {
      "text/plain": [
       "Index(['Reviews', 'Installs', 'Type', 'Price', 'Content Rating_Everyone',\n",
       "       'Content Rating_Everyone 10+', 'Content Rating_Mature 17+',\n",
       "       'Content Rating_Teen', 'Content Rating_Unrated'],\n",
       "      dtype='object')"
      ]
     },
     "execution_count": 54,
     "metadata": {},
     "output_type": "execute_result"
    }
   ],
   "source": [
    "x_train.columns"
   ]
  },
  {
   "cell_type": "code",
   "execution_count": 56,
   "id": "3458f17a",
   "metadata": {
    "ExecuteTime": {
     "end_time": "2023-12-16T16:03:02.920876Z",
     "start_time": "2023-12-16T16:03:02.915839Z"
    }
   },
   "outputs": [
    {
     "data": {
      "text/plain": [
       "Index(['Reviews', 'Installs', 'Type', 'Price', 'Content Rating_Everyone',\n",
       "       'Content Rating_Everyone 10+', 'Content Rating_Mature 17+',\n",
       "       'Content Rating_Teen', 'Content Rating_Unrated'],\n",
       "      dtype='object')"
      ]
     },
     "execution_count": 56,
     "metadata": {},
     "output_type": "execute_result"
    }
   ],
   "source": [
    "x_test.columns"
   ]
  },
  {
   "cell_type": "markdown",
   "id": "3f0c7ffa",
   "metadata": {},
   "source": [
    "<font size=3> Q16) Standardize the data, so that the values are within a particular range.\n"
   ]
  },
  {
   "cell_type": "code",
   "execution_count": 43,
   "id": "5d77e961",
   "metadata": {
    "ExecuteTime": {
     "end_time": "2023-12-16T16:01:08.310364Z",
     "start_time": "2023-12-16T16:01:08.298967Z"
    }
   },
   "outputs": [
    {
     "data": {
      "text/html": [
       "<style>#sk-container-id-1 {color: black;}#sk-container-id-1 pre{padding: 0;}#sk-container-id-1 div.sk-toggleable {background-color: white;}#sk-container-id-1 label.sk-toggleable__label {cursor: pointer;display: block;width: 100%;margin-bottom: 0;padding: 0.3em;box-sizing: border-box;text-align: center;}#sk-container-id-1 label.sk-toggleable__label-arrow:before {content: \"▸\";float: left;margin-right: 0.25em;color: #696969;}#sk-container-id-1 label.sk-toggleable__label-arrow:hover:before {color: black;}#sk-container-id-1 div.sk-estimator:hover label.sk-toggleable__label-arrow:before {color: black;}#sk-container-id-1 div.sk-toggleable__content {max-height: 0;max-width: 0;overflow: hidden;text-align: left;background-color: #f0f8ff;}#sk-container-id-1 div.sk-toggleable__content pre {margin: 0.2em;color: black;border-radius: 0.25em;background-color: #f0f8ff;}#sk-container-id-1 input.sk-toggleable__control:checked~div.sk-toggleable__content {max-height: 200px;max-width: 100%;overflow: auto;}#sk-container-id-1 input.sk-toggleable__control:checked~label.sk-toggleable__label-arrow:before {content: \"▾\";}#sk-container-id-1 div.sk-estimator input.sk-toggleable__control:checked~label.sk-toggleable__label {background-color: #d4ebff;}#sk-container-id-1 div.sk-label input.sk-toggleable__control:checked~label.sk-toggleable__label {background-color: #d4ebff;}#sk-container-id-1 input.sk-hidden--visually {border: 0;clip: rect(1px 1px 1px 1px);clip: rect(1px, 1px, 1px, 1px);height: 1px;margin: -1px;overflow: hidden;padding: 0;position: absolute;width: 1px;}#sk-container-id-1 div.sk-estimator {font-family: monospace;background-color: #f0f8ff;border: 1px dotted black;border-radius: 0.25em;box-sizing: border-box;margin-bottom: 0.5em;}#sk-container-id-1 div.sk-estimator:hover {background-color: #d4ebff;}#sk-container-id-1 div.sk-parallel-item::after {content: \"\";width: 100%;border-bottom: 1px solid gray;flex-grow: 1;}#sk-container-id-1 div.sk-label:hover label.sk-toggleable__label {background-color: #d4ebff;}#sk-container-id-1 div.sk-serial::before {content: \"\";position: absolute;border-left: 1px solid gray;box-sizing: border-box;top: 0;bottom: 0;left: 50%;z-index: 0;}#sk-container-id-1 div.sk-serial {display: flex;flex-direction: column;align-items: center;background-color: white;padding-right: 0.2em;padding-left: 0.2em;position: relative;}#sk-container-id-1 div.sk-item {position: relative;z-index: 1;}#sk-container-id-1 div.sk-parallel {display: flex;align-items: stretch;justify-content: center;background-color: white;position: relative;}#sk-container-id-1 div.sk-item::before, #sk-container-id-1 div.sk-parallel-item::before {content: \"\";position: absolute;border-left: 1px solid gray;box-sizing: border-box;top: 0;bottom: 0;left: 50%;z-index: -1;}#sk-container-id-1 div.sk-parallel-item {display: flex;flex-direction: column;z-index: 1;position: relative;background-color: white;}#sk-container-id-1 div.sk-parallel-item:first-child::after {align-self: flex-end;width: 50%;}#sk-container-id-1 div.sk-parallel-item:last-child::after {align-self: flex-start;width: 50%;}#sk-container-id-1 div.sk-parallel-item:only-child::after {width: 0;}#sk-container-id-1 div.sk-dashed-wrapped {border: 1px dashed gray;margin: 0 0.4em 0.5em 0.4em;box-sizing: border-box;padding-bottom: 0.4em;background-color: white;}#sk-container-id-1 div.sk-label label {font-family: monospace;font-weight: bold;display: inline-block;line-height: 1.2em;}#sk-container-id-1 div.sk-label-container {text-align: center;}#sk-container-id-1 div.sk-container {/* jupyter's `normalize.less` sets `[hidden] { display: none; }` but bootstrap.min.css set `[hidden] { display: none !important; }` so we also need the `!important` here to be able to override the default hidden behavior on the sphinx rendered scikit-learn.org. See: https://github.com/scikit-learn/scikit-learn/issues/21755 */display: inline-block !important;position: relative;}#sk-container-id-1 div.sk-text-repr-fallback {display: none;}</style><div id=\"sk-container-id-1\" class=\"sk-top-container\"><div class=\"sk-text-repr-fallback\"><pre>StandardScaler()</pre><b>In a Jupyter environment, please rerun this cell to show the HTML representation or trust the notebook. <br />On GitHub, the HTML representation is unable to render, please try loading this page with nbviewer.org.</b></div><div class=\"sk-container\" hidden><div class=\"sk-item\"><div class=\"sk-estimator sk-toggleable\"><input class=\"sk-toggleable__control sk-hidden--visually\" id=\"sk-estimator-id-1\" type=\"checkbox\" checked><label for=\"sk-estimator-id-1\" class=\"sk-toggleable__label sk-toggleable__label-arrow\">StandardScaler</label><div class=\"sk-toggleable__content\"><pre>StandardScaler()</pre></div></div></div></div></div>"
      ],
      "text/plain": [
       "StandardScaler()"
      ]
     },
     "execution_count": 43,
     "metadata": {},
     "output_type": "execute_result"
    }
   ],
   "source": [
    "from sklearn.preprocessing import StandardScaler\n",
    "\n",
    "std_scale = StandardScaler()\n",
    "\n",
    "std_scale"
   ]
  },
  {
   "cell_type": "code",
   "execution_count": 44,
   "id": "093632f5",
   "metadata": {
    "ExecuteTime": {
     "end_time": "2023-12-16T16:01:08.334023Z",
     "start_time": "2023-12-16T16:01:08.310364Z"
    }
   },
   "outputs": [],
   "source": [
    "dummies['Reviews'] = std_scale.fit_transform(dummies[['Reviews']])"
   ]
  },
  {
   "cell_type": "code",
   "execution_count": 45,
   "id": "37bfa5a5",
   "metadata": {
    "ExecuteTime": {
     "end_time": "2023-12-16T16:01:08.343344Z",
     "start_time": "2023-12-16T16:01:08.336035Z"
    }
   },
   "outputs": [],
   "source": [
    "dummies['Installs'] = std_scale.fit_transform(dummies[['Installs']])"
   ]
  },
  {
   "cell_type": "code",
   "execution_count": 46,
   "id": "3c720429",
   "metadata": {
    "ExecuteTime": {
     "end_time": "2023-12-16T16:01:08.351624Z",
     "start_time": "2023-12-16T16:01:08.343344Z"
    }
   },
   "outputs": [],
   "source": [
    "dummies['Price'] = std_scale.fit_transform(dummies[['Price']])"
   ]
  },
  {
   "cell_type": "code",
   "execution_count": 47,
   "id": "5274ddfc",
   "metadata": {
    "ExecuteTime": {
     "end_time": "2023-12-16T16:01:08.360116Z",
     "start_time": "2023-12-16T16:01:08.352633Z"
    }
   },
   "outputs": [],
   "source": [
    "dummies['Type'] = std_scale.fit_transform(dummies[['Type']])"
   ]
  }
 ],
 "metadata": {
  "kernelspec": {
   "display_name": "Python 3 (ipykernel)",
   "language": "python",
   "name": "python3"
  },
  "language_info": {
   "codemirror_mode": {
    "name": "ipython",
    "version": 3
   },
   "file_extension": ".py",
   "mimetype": "text/x-python",
   "name": "python",
   "nbconvert_exporter": "python",
   "pygments_lexer": "ipython3",
   "version": "3.12.3"
  },
  "varInspector": {
   "cols": {
    "lenName": 16,
    "lenType": 16,
    "lenVar": 40
   },
   "kernels_config": {
    "python": {
     "delete_cmd_postfix": "",
     "delete_cmd_prefix": "del ",
     "library": "var_list.py",
     "varRefreshCmd": "print(var_dic_list())"
    },
    "r": {
     "delete_cmd_postfix": ") ",
     "delete_cmd_prefix": "rm(",
     "library": "var_list.r",
     "varRefreshCmd": "cat(var_dic_list()) "
    }
   },
   "types_to_exclude": [
    "module",
    "function",
    "builtin_function_or_method",
    "instance",
    "_Feature"
   ],
   "window_display": false
  }
 },
 "nbformat": 4,
 "nbformat_minor": 5
}
